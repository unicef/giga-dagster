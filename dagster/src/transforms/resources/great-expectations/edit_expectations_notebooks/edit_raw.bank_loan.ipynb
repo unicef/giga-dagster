{
 "cells": [
  {
   "cell_type": "markdown",
   "id": "5b80fcfd",
   "metadata": {},
   "source": [
    "# Edit Your Expectation Suite\n",
    "Use this notebook to recreate and modify your expectation suite:\n",
    "\n",
    "**Expectation Suite Name**: `raw.bank_loan`\n"
   ]
  },
  {
   "cell_type": "code",
   "execution_count": 4,
   "id": "cbb0af0e",
   "metadata": {},
   "outputs": [
    {
     "name": "stdout",
     "output_type": "stream",
     "text": [
      "2023-03-13T20:33:09+0800 - INFO - FileDataContext loading zep config\n",
      "2023-03-13T20:33:09+0800 - INFO - GxConfig.parse_yaml() failed with errors - [{'loc': ('xdatasources',), 'msg': 'field required', 'type': 'value_error.missing'}]\n",
      "2023-03-13T20:33:09+0800 - INFO - GxConfig.parse_yaml() returning empty `xdatasources`\n",
      "2023-03-13T20:33:09+0800 - INFO - Loading 'datasources' ->\n",
      "{}\n",
      "2023-03-13T20:33:09+0800 - INFO - Loaded 'datasources' ->\n",
      "{}\n",
      "2023-03-13T20:33:09+0800 - INFO - Checkpoint store is not configured; omitting it from active stores\n",
      "2023-03-13T20:33:09+0800 - INFO - Profiler store is not configured; omitting it from active stores\n",
      "2023-03-13T20:33:09+0800 - INFO - Checkpoint store is not configured; omitting it from active stores\n",
      "2023-03-13T20:33:09+0800 - INFO - Profiler store is not configured; omitting it from active stores\n",
      "2023-03-13T20:33:09+0800 - INFO - Checkpoint store is not configured; omitting it from active stores\n",
      "2023-03-13T20:33:09+0800 - INFO - Profiler store is not configured; omitting it from active stores\n",
      "Loaded ExpectationSuite \"raw.bank_loan\" containing 11 expectations.\n"
     ]
    }
   ],
   "source": [
    "import datetime\n",
    "\n",
    "import pandas as pd\n",
    "\n",
    "import great_expectations as gx\n",
    "import great_expectations.jupyter_ux\n",
    "from great_expectations.core.expectation_configuration import ExpectationConfiguration\n",
    "from great_expectations.data_context.types.resource_identifiers import (\n",
    "    ExpectationSuiteIdentifier,\n",
    ")\n",
    "from great_expectations.exceptions import DataContextError\n",
    "\n",
    "context = gx.get_context()\n",
    "\n",
    "\n",
    "# Feel free to change the name of your suite here. Renaming this will not remove the other one.\n",
    "expectation_suite_name = \"raw.bank_loan\"\n",
    "try:\n",
    "    suite = context.get_expectation_suite(expectation_suite_name=expectation_suite_name)\n",
    "    print(\n",
    "        f'Loaded ExpectationSuite \"{suite.expectation_suite_name}\" containing {len(suite.expectations)} expectations.'\n",
    "    )\n",
    "except DataContextError:\n",
    "    suite = context.add_expectation_suite(expectation_suite_name=expectation_suite_name)\n",
    "    print(f'Created ExpectationSuite \"{suite.expectation_suite_name}\".')"
   ]
  },
  {
   "cell_type": "code",
   "execution_count": 5,
   "id": "fca78110",
   "metadata": {},
   "outputs": [
    {
     "data": {
      "text/plain": [
       "['raw.bank_loan',\n",
       " 'raw.bank_marketing',\n",
       " 'raw.bank_savings',\n",
       " 'raw.insurance',\n",
       " 'raw.supermarket']"
      ]
     },
     "execution_count": 5,
     "metadata": {},
     "output_type": "execute_result"
    }
   ],
   "source": [
    "context.list_expectation_suite_names()"
   ]
  },
  {
   "cell_type": "code",
   "execution_count": 6,
   "id": "a8cda1a1",
   "metadata": {
    "scrolled": true
   },
   "outputs": [
    {
     "data": {
      "text/plain": [
       "['raw__bank_loan',\n",
       " 'raw__bank_marketing',\n",
       " 'raw__bank_savings',\n",
       " 'raw__insurance',\n",
       " 'raw__supermarket']"
      ]
     },
     "execution_count": 6,
     "metadata": {},
     "output_type": "execute_result"
    }
   ],
   "source": [
    "# list datasources of the type PandasDatasource in your project\n",
    "[\n",
    "    datasource[\"name\"]\n",
    "    for datasource in context.list_datasources()\n",
    "    if datasource[\"class_name\"] == \"PandasDatasource\"\n",
    "]"
   ]
  },
  {
   "cell_type": "code",
   "execution_count": 7,
   "id": "cf6e09cf",
   "metadata": {
    "scrolled": true
   },
   "outputs": [
    {
     "data": {
      "text/html": [
       "<div>\n",
       "<style scoped>\n",
       "    .dataframe tbody tr th:only-of-type {\n",
       "        vertical-align: middle;\n",
       "    }\n",
       "\n",
       "    .dataframe tbody tr th {\n",
       "        vertical-align: top;\n",
       "    }\n",
       "\n",
       "    .dataframe thead th {\n",
       "        text-align: right;\n",
       "    }\n",
       "</style>\n",
       "<table border=\"1\" class=\"dataframe\">\n",
       "  <thead>\n",
       "    <tr style=\"text-align: right;\">\n",
       "      <th></th>\n",
       "      <th>First_Name</th>\n",
       "      <th>Last_Name</th>\n",
       "      <th>Email_Address</th>\n",
       "      <th>Contact_Number</th>\n",
       "      <th>Address</th>\n",
       "      <th>Birth_Date</th>\n",
       "      <th>Job</th>\n",
       "      <th>DependentCount</th>\n",
       "      <th>LoanTerm</th>\n",
       "      <th>CurrentLoanAmount</th>\n",
       "      <th>LoanPurpose</th>\n",
       "      <th>MembershipId</th>\n",
       "      <th>CreditScore</th>\n",
       "    </tr>\n",
       "  </thead>\n",
       "  <tbody>\n",
       "    <tr>\n",
       "      <th>0</th>\n",
       "      <td>Arlan Jr</td>\n",
       "      <td>McGilleghole</td>\n",
       "      <td>NaN</td>\n",
       "      <td>09371972111</td>\n",
       "      <td>55181 Forest Dale Avenue</td>\n",
       "      <td>Martes 21 de Octubre de 1983</td>\n",
       "      <td>Information Systems Manager</td>\n",
       "      <td>1.0</td>\n",
       "      <td>Short Term</td>\n",
       "      <td>55262.68</td>\n",
       "      <td>Large purchase</td>\n",
       "      <td>f83726a5</td>\n",
       "      <td>478.0</td>\n",
       "    </tr>\n",
       "    <tr>\n",
       "      <th>1</th>\n",
       "      <td>richart</td>\n",
       "      <td>cino</td>\n",
       "      <td>email: rcino11@outlook.com</td>\n",
       "      <td>0906-712-3469</td>\n",
       "      <td>623 Mesta Alley</td>\n",
       "      <td>1980-08-26</td>\n",
       "      <td>Teacher</td>\n",
       "      <td>4.0</td>\n",
       "      <td>Long Term</td>\n",
       "      <td>104624.29</td>\n",
       "      <td>Home improvement projects</td>\n",
       "      <td>b1c27c09</td>\n",
       "      <td>476.0</td>\n",
       "    </tr>\n",
       "    <tr>\n",
       "      <th>2</th>\n",
       "      <td>ZSA</td>\n",
       "      <td>ZSA</td>\n",
       "      <td>invalid-email@yahoo.com</td>\n",
       "      <td>+639646546860</td>\n",
       "      <td>32660 Stephen Court</td>\n",
       "      <td>1975/09/02</td>\n",
       "      <td>Software Consultant</td>\n",
       "      <td>5.0</td>\n",
       "      <td>Long Term</td>\n",
       "      <td>150373.45</td>\n",
       "      <td>Car loan</td>\n",
       "      <td>88d12d32</td>\n",
       "      <td>658.0</td>\n",
       "    </tr>\n",
       "    <tr>\n",
       "      <th>3</th>\n",
       "      <td>SASCHA</td>\n",
       "      <td>HUDLESS</td>\n",
       "      <td>undefined</td>\n",
       "      <td>639115385624</td>\n",
       "      <td>0704 Prentice Way</td>\n",
       "      <td>1971-03-19</td>\n",
       "      <td>Biostatistician IV</td>\n",
       "      <td>4.0</td>\n",
       "      <td>Short Term</td>\n",
       "      <td>223857.80</td>\n",
       "      <td>Large purchase</td>\n",
       "      <td>8d133b88</td>\n",
       "      <td>819.0</td>\n",
       "    </tr>\n",
       "    <tr>\n",
       "      <th>4</th>\n",
       "      <td>KATHA</td>\n",
       "      <td>TOOKILL</td>\n",
       "      <td>undefined</td>\n",
       "      <td>phone: 9239898248</td>\n",
       "      <td>97 Pleasure Terrace</td>\n",
       "      <td>Oct 10, 1986</td>\n",
       "      <td>Quality Control Specialist</td>\n",
       "      <td>1.0</td>\n",
       "      <td>Short Term</td>\n",
       "      <td>278608.13</td>\n",
       "      <td>Debt consolidation</td>\n",
       "      <td>734f973e</td>\n",
       "      <td>347.0</td>\n",
       "    </tr>\n",
       "  </tbody>\n",
       "</table>\n",
       "</div>"
      ],
      "text/plain": [
       "  First_Name     Last_Name               Email_Address       Contact_Number  \\\n",
       "0   Arlan Jr  McGilleghole                         NaN          09371972111   \n",
       "1    richart          cino  email: rcino11@outlook.com        0906-712-3469   \n",
       "2        ZSA           ZSA     invalid-email@yahoo.com        +639646546860   \n",
       "3     SASCHA       HUDLESS                   undefined         639115385624   \n",
       "4      KATHA       TOOKILL                   undefined    phone: 9239898248   \n",
       "\n",
       "                    Address                    Birth_Date  \\\n",
       "0  55181 Forest Dale Avenue  Martes 21 de Octubre de 1983   \n",
       "1           623 Mesta Alley                    1980-08-26   \n",
       "2       32660 Stephen Court                    1975/09/02   \n",
       "3         0704 Prentice Way                    1971-03-19   \n",
       "4       97 Pleasure Terrace                  Oct 10, 1986   \n",
       "\n",
       "                           Job  DependentCount    LoanTerm  CurrentLoanAmount  \\\n",
       "0  Information Systems Manager             1.0  Short Term           55262.68   \n",
       "1                      Teacher             4.0   Long Term          104624.29   \n",
       "2          Software Consultant             5.0   Long Term          150373.45   \n",
       "3           Biostatistician IV             4.0  Short Term          223857.80   \n",
       "4   Quality Control Specialist             1.0  Short Term          278608.13   \n",
       "\n",
       "                 LoanPurpose MembershipId  CreditScore  \n",
       "0             Large purchase     f83726a5        478.0  \n",
       "1  Home improvement projects     b1c27c09        476.0  \n",
       "2                   Car loan     88d12d32        658.0  \n",
       "3             Large purchase     8d133b88        819.0  \n",
       "4         Debt consolidation     734f973e        347.0  "
      ]
     },
     "execution_count": 7,
     "metadata": {},
     "output_type": "execute_result"
    }
   ],
   "source": [
    "# If you would like to validate a file on a filesystem:\n",
    "batch_kwargs = {\"path\": \"../../dagster/tm_scv_dagster/assets/demo/static_files/bank_loan.csv\", \"datasource\": \"raw__bank_loan\"}\n",
    "\n",
    "batch = context.get_batch(batch_kwargs, expectation_suite_name)\n",
    "batch.head()"
   ]
  },
  {
   "cell_type": "markdown",
   "id": "dde4d397",
   "metadata": {},
   "source": [
    "## Create & Edit Expectations\n",
    "\n",
    "\n",
    "You are adding Expectation configurations to the suite. Since you selected manual mode, there is no sample batch of data and no validation happens during this process. See our documentation for more info and examples: **[How to create a new Expectation Suite without a sample batch](https://docs.greatexpectations.io/docs/guides/expectations/how_to_create_and_edit_expectations_based_on_domain_knowledge_without_inspecting_data_directly)**.\n",
    "\n",
    "Note that if you do use interactive mode you may specify a sample batch of data to use when creating your Expectation Suite. You can then use a `validator` to get immediate feedback on your Expectations against your specified sample batch.\n",
    "\n",
    "\n",
    "You can see all the available expectations in the **[expectation gallery](https://greatexpectations.io/expectations)**."
   ]
  },
  {
   "cell_type": "markdown",
   "id": "d97d2644",
   "metadata": {},
   "source": [
    "### Table Expectation(s)"
   ]
  },
  {
   "cell_type": "markdown",
   "id": "bf852437",
   "metadata": {},
   "source": [
    "No table level expectations are in this suite. Feel free to add some here.\n"
   ]
  },
  {
   "cell_type": "markdown",
   "id": "c630f30b",
   "metadata": {},
   "source": [
    "### Column Expectation(s)"
   ]
  },
  {
   "cell_type": "code",
   "execution_count": 8,
   "id": "445ad1cb",
   "metadata": {},
   "outputs": [
    {
     "data": {
      "text/plain": [
       "{\n",
       "  \"result\": {\n",
       "    \"element_count\": 8202,\n",
       "    \"missing_count\": 0,\n",
       "    \"missing_percent\": 0.0,\n",
       "    \"unexpected_count\": 150,\n",
       "    \"unexpected_percent\": 1.8288222384784198,\n",
       "    \"unexpected_percent_total\": 1.8288222384784198,\n",
       "    \"unexpected_percent_nonmissing\": 1.8288222384784198,\n",
       "    \"partial_unexpected_list\": [\n",
       "      309.0,\n",
       "      306.0,\n",
       "      300.0,\n",
       "      309.0,\n",
       "      305.0,\n",
       "      306.0,\n",
       "      308.0,\n",
       "      303.0,\n",
       "      306.0,\n",
       "      303.0,\n",
       "      307.0,\n",
       "      309.0,\n",
       "      303.0,\n",
       "      306.0,\n",
       "      308.0,\n",
       "      309.0,\n",
       "      305.0,\n",
       "      307.0,\n",
       "      301.0,\n",
       "      309.0\n",
       "    ]\n",
       "  },\n",
       "  \"success\": false,\n",
       "  \"meta\": {},\n",
       "  \"exception_info\": {\n",
       "    \"raised_exception\": false,\n",
       "    \"exception_traceback\": null,\n",
       "    \"exception_message\": null\n",
       "  }\n",
       "}"
      ]
     },
     "execution_count": 8,
     "metadata": {},
     "output_type": "execute_result"
    }
   ],
   "source": [
    "bank_loan_columns_that_must_exist = [\"First_Name\", \"Last_Name\", \"Email_Address\", \"Contact_Number\", \"Address\", \"Birth_Date\"]\n",
    "\n",
    "for column in bank_loan_columns_that_must_exist:\n",
    "    batch.expect_column_to_exist(column)\n",
    "    \n",
    "batch.expect_column_values_to_be_in_set(\"LoanTerm\", set([\"Short Term\", \"Long Term\"]))\n",
    "batch.expect_column_values_to_not_be_null(\"Address\")\n",
    "batch.expect_column_values_to_be_unique(\"MembershipId\")\n",
    "batch.expect_column_values_to_be_dateutil_parseable(\"Birth_Date\")\n",
    "batch.expect_column_values_to_be_between(\"CreditScore\", 310, 850)"
   ]
  },
  {
   "cell_type": "markdown",
   "id": "7f2bda7a",
   "metadata": {},
   "source": [
    "## Review & Save Your Expectations\n",
    "\n",
    "Let's save the expectation suite as a JSON file in the `great_expectations/expectations` directory of your project.\n",
    "\n",
    "Let's now rebuild your Data Docs, which helps you communicate about your data with both machines and humans."
   ]
  },
  {
   "cell_type": "code",
   "execution_count": 9,
   "id": "2890e800",
   "metadata": {},
   "outputs": [
    {
     "name": "stdout",
     "output_type": "stream",
     "text": [
      "2023-03-13T20:33:27+0800 - INFO - \t11 expectation(s) included in expectation_suite. result_format settings filtered.\n"
     ]
    }
   ],
   "source": [
    "batch.save_expectation_suite(discard_failed_expectations=False)"
   ]
  },
  {
   "cell_type": "code",
   "execution_count": null,
   "id": "f14dfd6f",
   "metadata": {},
   "outputs": [],
   "source": []
  }
 ],
 "metadata": {
  "kernelspec": {
   "display_name": "Python 3 (ipykernel)",
   "language": "python",
   "name": "python3"
  },
  "language_info": {
   "codemirror_mode": {
    "name": "ipython",
    "version": 3
   },
   "file_extension": ".py",
   "mimetype": "text/x-python",
   "name": "python",
   "nbconvert_exporter": "python",
   "pygments_lexer": "ipython3",
   "version": "3.9.12"
  }
 },
 "nbformat": 4,
 "nbformat_minor": 5
}
