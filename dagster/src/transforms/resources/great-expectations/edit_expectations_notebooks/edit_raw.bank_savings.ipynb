{
 "cells": [
  {
   "cell_type": "markdown",
   "id": "5b80fcfd",
   "metadata": {},
   "source": [
    "# Edit Your Expectation Suite\n",
    "Use this notebook to recreate and modify your expectation suite:\n",
    "\n",
    "**Expectation Suite Name**: `raw.bank_savings`\n"
   ]
  },
  {
   "cell_type": "code",
   "execution_count": 2,
   "id": "cbb0af0e",
   "metadata": {},
   "outputs": [
    {
     "name": "stdout",
     "output_type": "stream",
     "text": [
      "2023-03-13T20:34:33+0800 - INFO - FileDataContext loading zep config\n",
      "2023-03-13T20:34:33+0800 - INFO - GxConfig.parse_yaml() failed with errors - [{'loc': ('xdatasources',), 'msg': 'field required', 'type': 'value_error.missing'}]\n",
      "2023-03-13T20:34:33+0800 - INFO - GxConfig.parse_yaml() returning empty `xdatasources`\n",
      "2023-03-13T20:34:33+0800 - INFO - Loading 'datasources' ->\n",
      "{}\n",
      "2023-03-13T20:34:33+0800 - INFO - Loaded 'datasources' ->\n",
      "{}\n",
      "2023-03-13T20:34:33+0800 - INFO - Checkpoint store is not configured; omitting it from active stores\n",
      "2023-03-13T20:34:33+0800 - INFO - Profiler store is not configured; omitting it from active stores\n",
      "2023-03-13T20:34:33+0800 - INFO - Checkpoint store is not configured; omitting it from active stores\n",
      "2023-03-13T20:34:33+0800 - INFO - Profiler store is not configured; omitting it from active stores\n",
      "2023-03-13T20:34:33+0800 - INFO - Checkpoint store is not configured; omitting it from active stores\n",
      "2023-03-13T20:34:33+0800 - INFO - Profiler store is not configured; omitting it from active stores\n",
      "Loaded ExpectationSuite \"raw.bank_savings\" containing 6 expectations.\n"
     ]
    }
   ],
   "source": [
    "import datetime\n",
    "\n",
    "import pandas as pd\n",
    "\n",
    "import great_expectations as gx\n",
    "import great_expectations.jupyter_ux\n",
    "from great_expectations.core.expectation_configuration import ExpectationConfiguration\n",
    "from great_expectations.data_context.types.resource_identifiers import (\n",
    "    ExpectationSuiteIdentifier,\n",
    ")\n",
    "from great_expectations.exceptions import DataContextError\n",
    "\n",
    "context = gx.get_context()\n",
    "\n",
    "\n",
    "# Feel free to change the name of your suite here. Renaming this will not remove the other one.\n",
    "expectation_suite_name = \"raw.bank_savings\"\n",
    "try:\n",
    "    suite = context.get_expectation_suite(expectation_suite_name=expectation_suite_name)\n",
    "    print(\n",
    "        f'Loaded ExpectationSuite \"{suite.expectation_suite_name}\" containing {len(suite.expectations)} expectations.'\n",
    "    )\n",
    "except DataContextError:\n",
    "    suite = context.add_expectation_suite(expectation_suite_name=expectation_suite_name)\n",
    "    print(f'Created ExpectationSuite \"{suite.expectation_suite_name}\".')"
   ]
  },
  {
   "cell_type": "code",
   "execution_count": 3,
   "id": "fca78110",
   "metadata": {},
   "outputs": [
    {
     "data": {
      "text/plain": [
       "['raw.bank_loan',\n",
       " 'raw.bank_marketing',\n",
       " 'raw.bank_savings',\n",
       " 'raw.insurance',\n",
       " 'raw.supermarket']"
      ]
     },
     "execution_count": 3,
     "metadata": {},
     "output_type": "execute_result"
    }
   ],
   "source": [
    "context.list_expectation_suite_names()"
   ]
  },
  {
   "cell_type": "code",
   "execution_count": 4,
   "id": "a8cda1a1",
   "metadata": {
    "scrolled": true
   },
   "outputs": [
    {
     "data": {
      "text/plain": [
       "['raw__bank_loan',\n",
       " 'raw__bank_marketing',\n",
       " 'raw__bank_savings',\n",
       " 'raw__insurance',\n",
       " 'raw__supermarket']"
      ]
     },
     "execution_count": 4,
     "metadata": {},
     "output_type": "execute_result"
    }
   ],
   "source": [
    "# list datasources of the type PandasDatasource in your project\n",
    "[\n",
    "    datasource[\"name\"]\n",
    "    for datasource in context.list_datasources()\n",
    "    if datasource[\"class_name\"] == \"PandasDatasource\"\n",
    "]"
   ]
  },
  {
   "cell_type": "code",
   "execution_count": 5,
   "id": "cf6e09cf",
   "metadata": {
    "scrolled": true
   },
   "outputs": [
    {
     "data": {
      "text/html": [
       "<div>\n",
       "<style scoped>\n",
       "    .dataframe tbody tr th:only-of-type {\n",
       "        vertical-align: middle;\n",
       "    }\n",
       "\n",
       "    .dataframe tbody tr th {\n",
       "        vertical-align: top;\n",
       "    }\n",
       "\n",
       "    .dataframe thead th {\n",
       "        text-align: right;\n",
       "    }\n",
       "</style>\n",
       "<table border=\"1\" class=\"dataframe\">\n",
       "  <thead>\n",
       "    <tr style=\"text-align: right;\">\n",
       "      <th></th>\n",
       "      <th>FirstName</th>\n",
       "      <th>LastName</th>\n",
       "      <th>Email</th>\n",
       "      <th>Phone</th>\n",
       "      <th>Address</th>\n",
       "      <th>Dob</th>\n",
       "      <th>SavingsBalance</th>\n",
       "      <th>Job</th>\n",
       "      <th>JobTenure</th>\n",
       "      <th>BankTenure</th>\n",
       "      <th>EstimatedSalary</th>\n",
       "      <th>MembershipId</th>\n",
       "    </tr>\n",
       "  </thead>\n",
       "  <tbody>\n",
       "    <tr>\n",
       "      <th>0</th>\n",
       "      <td>Arlan Jr</td>\n",
       "      <td>McGilleghole</td>\n",
       "      <td>NaN</td>\n",
       "      <td>09371972111</td>\n",
       "      <td>55181 Forest Dale Avenue</td>\n",
       "      <td>Martes 21 de Octubre de 1983</td>\n",
       "      <td>491971.10</td>\n",
       "      <td>Information Systems Manager</td>\n",
       "      <td>2</td>\n",
       "      <td>0.67</td>\n",
       "      <td>29135.11</td>\n",
       "      <td>f83726a5</td>\n",
       "    </tr>\n",
       "    <tr>\n",
       "      <th>1</th>\n",
       "      <td>ELMO</td>\n",
       "      <td>PIOLA</td>\n",
       "      <td>email: epiola15@gmail.com</td>\n",
       "      <td>0937-908-4678</td>\n",
       "      <td>4991 Northfield Street</td>\n",
       "      <td>1986/06/27</td>\n",
       "      <td>372205.33</td>\n",
       "      <td>Research Nurse</td>\n",
       "      <td>4</td>\n",
       "      <td>16.33</td>\n",
       "      <td>71647.78</td>\n",
       "      <td>fbcf57ec</td>\n",
       "    </tr>\n",
       "    <tr>\n",
       "      <th>2</th>\n",
       "      <td>LEONANIE</td>\n",
       "      <td>GOMMEY</td>\n",
       "      <td>NaN</td>\n",
       "      <td>639550750054</td>\n",
       "      <td>6295 Grayhawk Terrace</td>\n",
       "      <td>1985-02-10</td>\n",
       "      <td>145575.66</td>\n",
       "      <td>Quality Engineer</td>\n",
       "      <td>8</td>\n",
       "      <td>13.49</td>\n",
       "      <td>37848.77</td>\n",
       "      <td>077e1e69</td>\n",
       "    </tr>\n",
       "    <tr>\n",
       "      <th>3</th>\n",
       "      <td>Kapiloff</td>\n",
       "      <td>S dela Cruz</td>\n",
       "      <td>Tam Kapiloff &lt;tkapiloff12@outlook.com&gt;</td>\n",
       "      <td>09323449295</td>\n",
       "      <td>12960 Merchant Avenue</td>\n",
       "      <td>Martes 21 de Octubre de 1983</td>\n",
       "      <td>618601.75</td>\n",
       "      <td>Research Associate</td>\n",
       "      <td>6</td>\n",
       "      <td>6.04</td>\n",
       "      <td>75771.61</td>\n",
       "      <td>a9b97bd2</td>\n",
       "    </tr>\n",
       "    <tr>\n",
       "      <th>4</th>\n",
       "      <td>richart</td>\n",
       "      <td>cino</td>\n",
       "      <td>email: rcino11@outlook.com</td>\n",
       "      <td>0906-712-3469</td>\n",
       "      <td>623 Mesta Alley</td>\n",
       "      <td>1980-08-26</td>\n",
       "      <td>993730.91</td>\n",
       "      <td>Teacher</td>\n",
       "      <td>11</td>\n",
       "      <td>5.88</td>\n",
       "      <td>69454.62</td>\n",
       "      <td>b1c27c09</td>\n",
       "    </tr>\n",
       "  </tbody>\n",
       "</table>\n",
       "</div>"
      ],
      "text/plain": [
       "  FirstName      LastName                                   Email  \\\n",
       "0  Arlan Jr  McGilleghole                                     NaN   \n",
       "1      ELMO         PIOLA               email: epiola15@gmail.com   \n",
       "2  LEONANIE        GOMMEY                                     NaN   \n",
       "3  Kapiloff   S dela Cruz  Tam Kapiloff <tkapiloff12@outlook.com>   \n",
       "4   richart          cino              email: rcino11@outlook.com   \n",
       "\n",
       "           Phone                   Address                           Dob  \\\n",
       "0    09371972111  55181 Forest Dale Avenue  Martes 21 de Octubre de 1983   \n",
       "1  0937-908-4678    4991 Northfield Street                    1986/06/27   \n",
       "2   639550750054     6295 Grayhawk Terrace                    1985-02-10   \n",
       "3    09323449295     12960 Merchant Avenue  Martes 21 de Octubre de 1983   \n",
       "4  0906-712-3469           623 Mesta Alley                    1980-08-26   \n",
       "\n",
       "   SavingsBalance                          Job  JobTenure  BankTenure  \\\n",
       "0       491971.10  Information Systems Manager          2        0.67   \n",
       "1       372205.33               Research Nurse          4       16.33   \n",
       "2       145575.66             Quality Engineer          8       13.49   \n",
       "3       618601.75           Research Associate          6        6.04   \n",
       "4       993730.91                      Teacher         11        5.88   \n",
       "\n",
       "   EstimatedSalary MembershipId  \n",
       "0         29135.11     f83726a5  \n",
       "1         71647.78     fbcf57ec  \n",
       "2         37848.77     077e1e69  \n",
       "3         75771.61     a9b97bd2  \n",
       "4         69454.62     b1c27c09  "
      ]
     },
     "execution_count": 5,
     "metadata": {},
     "output_type": "execute_result"
    }
   ],
   "source": [
    "# If you would like to validate a file on a filesystem:\n",
    "batch_kwargs = {\"path\": \"../../dagster/tm_scv_dagster/assets/demo/static_files/bank_savings.csv\", \"datasource\": \"raw__bank_savings\"}\n",
    "\n",
    "batch = context.get_batch(batch_kwargs, expectation_suite_name)\n",
    "batch.head()"
   ]
  },
  {
   "cell_type": "markdown",
   "id": "dde4d397",
   "metadata": {},
   "source": [
    "## Create & Edit Expectations\n",
    "\n",
    "\n",
    "You are adding Expectation configurations to the suite. Since you selected manual mode, there is no sample batch of data and no validation happens during this process. See our documentation for more info and examples: **[How to create a new Expectation Suite without a sample batch](https://docs.greatexpectations.io/docs/guides/expectations/how_to_create_and_edit_expectations_based_on_domain_knowledge_without_inspecting_data_directly)**.\n",
    "\n",
    "Note that if you do use interactive mode you may specify a sample batch of data to use when creating your Expectation Suite. You can then use a `validator` to get immediate feedback on your Expectations against your specified sample batch.\n",
    "\n",
    "\n",
    "You can see all the available expectations in the **[expectation gallery](https://greatexpectations.io/expectations)**."
   ]
  },
  {
   "cell_type": "markdown",
   "id": "d97d2644",
   "metadata": {},
   "source": [
    "### Table Expectation(s)"
   ]
  },
  {
   "cell_type": "markdown",
   "id": "bf852437",
   "metadata": {},
   "source": [
    "No table level expectations are in this suite. Feel free to add some here.\n"
   ]
  },
  {
   "cell_type": "markdown",
   "id": "c630f30b",
   "metadata": {},
   "source": [
    "### Column Expectation(s)"
   ]
  },
  {
   "cell_type": "code",
   "execution_count": 6,
   "id": "445ad1cb",
   "metadata": {},
   "outputs": [],
   "source": [
    "bank_savings_columns_that_must_exist = [\"FirstName\", \"LastName\", \"Email\", \"Phone\", \"Address\", \"Dob\"]\n",
    "\n",
    "for column in bank_savings_columns_that_must_exist:\n",
    "    batch.expect_column_to_exist(column)"
   ]
  },
  {
   "cell_type": "markdown",
   "id": "7f2bda7a",
   "metadata": {},
   "source": [
    "## Review & Save Your Expectations\n",
    "\n",
    "Let's save the expectation suite as a JSON file in the `great_expectations/expectations` directory of your project.\n",
    "\n",
    "Let's now rebuild your Data Docs, which helps you communicate about your data with both machines and humans."
   ]
  },
  {
   "cell_type": "code",
   "execution_count": 7,
   "id": "2890e800",
   "metadata": {},
   "outputs": [
    {
     "name": "stdout",
     "output_type": "stream",
     "text": [
      "2023-03-13T20:34:39+0800 - INFO - \t6 expectation(s) included in expectation_suite. result_format settings filtered.\n"
     ]
    }
   ],
   "source": [
    "batch.save_expectation_suite()"
   ]
  },
  {
   "cell_type": "code",
   "execution_count": null,
   "id": "c2020f28",
   "metadata": {},
   "outputs": [],
   "source": []
  }
 ],
 "metadata": {
  "kernelspec": {
   "display_name": "Python 3 (ipykernel)",
   "language": "python",
   "name": "python3"
  },
  "language_info": {
   "codemirror_mode": {
    "name": "ipython",
    "version": 3
   },
   "file_extension": ".py",
   "mimetype": "text/x-python",
   "name": "python",
   "nbconvert_exporter": "python",
   "pygments_lexer": "ipython3",
   "version": "3.9.12"
  }
 },
 "nbformat": 4,
 "nbformat_minor": 5
}
