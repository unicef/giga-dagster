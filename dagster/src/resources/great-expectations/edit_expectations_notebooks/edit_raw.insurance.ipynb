{
 "cells": [
  {
   "cell_type": "markdown",
   "id": "5b80fcfd",
   "metadata": {},
   "source": [
    "# Edit Your Expectation Suite\n",
    "Use this notebook to recreate and modify your expectation suite:\n",
    "\n",
    "**Expectation Suite Name**: `raw.insurance`\n"
   ]
  },
  {
   "cell_type": "code",
   "execution_count": 1,
   "id": "cbb0af0e",
   "metadata": {},
   "outputs": [
    {
     "name": "stdout",
     "output_type": "stream",
     "text": [
      "2023-03-13T20:34:58+0800 - INFO - Great Expectations logging enabled at 20 level by JupyterUX module.\n",
      "2023-03-13T20:34:58+0800 - INFO - FileDataContext loading zep config\n",
      "2023-03-13T20:34:58+0800 - INFO - GxConfig.parse_yaml() failed with errors - [{'loc': ('xdatasources',), 'msg': 'field required', 'type': 'value_error.missing'}]\n",
      "2023-03-13T20:34:58+0800 - INFO - GxConfig.parse_yaml() returning empty `xdatasources`\n",
      "2023-03-13T20:34:58+0800 - INFO - Loading 'datasources' ->\n",
      "{}\n",
      "2023-03-13T20:34:58+0800 - INFO - Loaded 'datasources' ->\n",
      "{}\n",
      "2023-03-13T20:34:58+0800 - INFO - Checkpoint store is not configured; omitting it from active stores\n",
      "2023-03-13T20:34:58+0800 - INFO - Profiler store is not configured; omitting it from active stores\n",
      "2023-03-13T20:34:58+0800 - INFO - Checkpoint store is not configured; omitting it from active stores\n",
      "2023-03-13T20:34:58+0800 - INFO - Profiler store is not configured; omitting it from active stores\n",
      "2023-03-13T20:34:58+0800 - INFO - Checkpoint store is not configured; omitting it from active stores\n",
      "2023-03-13T20:34:58+0800 - INFO - Profiler store is not configured; omitting it from active stores\n",
      "Loaded ExpectationSuite \"raw.insurance\" containing 6 expectations.\n"
     ]
    }
   ],
   "source": [
    "import datetime\n",
    "\n",
    "import pandas as pd\n",
    "\n",
    "import great_expectations as gx\n",
    "import great_expectations.jupyter_ux\n",
    "from great_expectations.core.expectation_configuration import ExpectationConfiguration\n",
    "from great_expectations.data_context.types.resource_identifiers import (\n",
    "    ExpectationSuiteIdentifier,\n",
    ")\n",
    "from great_expectations.exceptions import DataContextError\n",
    "\n",
    "context = gx.get_context()\n",
    "\n",
    "\n",
    "# Feel free to change the name of your suite here. Renaming this will not remove the other one.\n",
    "expectation_suite_name = \"raw.insurance\"\n",
    "try:\n",
    "    suite = context.get_expectation_suite(expectation_suite_name=expectation_suite_name)\n",
    "    print(\n",
    "        f'Loaded ExpectationSuite \"{suite.expectation_suite_name}\" containing {len(suite.expectations)} expectations.'\n",
    "    )\n",
    "except DataContextError:\n",
    "    suite = context.add_expectation_suite(expectation_suite_name=expectation_suite_name)\n",
    "    print(f'Created ExpectationSuite \"{suite.expectation_suite_name}\".')"
   ]
  },
  {
   "cell_type": "code",
   "execution_count": 2,
   "id": "fca78110",
   "metadata": {},
   "outputs": [
    {
     "data": {
      "text/plain": [
       "['raw.bank_loan',\n",
       " 'raw.bank_marketing',\n",
       " 'raw.bank_savings',\n",
       " 'raw.insurance',\n",
       " 'raw.supermarket']"
      ]
     },
     "execution_count": 2,
     "metadata": {},
     "output_type": "execute_result"
    }
   ],
   "source": [
    "context.list_expectation_suite_names()"
   ]
  },
  {
   "cell_type": "code",
   "execution_count": 3,
   "id": "a8cda1a1",
   "metadata": {
    "scrolled": true
   },
   "outputs": [
    {
     "data": {
      "text/plain": [
       "['raw__bank_loan',\n",
       " 'raw__bank_marketing',\n",
       " 'raw__bank_savings',\n",
       " 'raw__insurance',\n",
       " 'raw__supermarket']"
      ]
     },
     "execution_count": 3,
     "metadata": {},
     "output_type": "execute_result"
    }
   ],
   "source": [
    "# list datasources of the type PandasDatasource in your project\n",
    "[\n",
    "    datasource[\"name\"]\n",
    "    for datasource in context.list_datasources()\n",
    "    if datasource[\"class_name\"] == \"PandasDatasource\"\n",
    "]"
   ]
  },
  {
   "cell_type": "code",
   "execution_count": 4,
   "id": "cf6e09cf",
   "metadata": {
    "scrolled": true
   },
   "outputs": [
    {
     "data": {
      "text/html": [
       "<div>\n",
       "<style scoped>\n",
       "    .dataframe tbody tr th:only-of-type {\n",
       "        vertical-align: middle;\n",
       "    }\n",
       "\n",
       "    .dataframe tbody tr th {\n",
       "        vertical-align: top;\n",
       "    }\n",
       "\n",
       "    .dataframe thead th {\n",
       "        text-align: right;\n",
       "    }\n",
       "</style>\n",
       "<table border=\"1\" class=\"dataframe\">\n",
       "  <thead>\n",
       "    <tr style=\"text-align: right;\">\n",
       "      <th></th>\n",
       "      <th>InsureeFirstName</th>\n",
       "      <th>InsureeLastName</th>\n",
       "      <th>InsureeEmail</th>\n",
       "      <th>InsureePhoneNumber</th>\n",
       "      <th>Address</th>\n",
       "      <th>InsureeDob</th>\n",
       "      <th>Region</th>\n",
       "      <th>BMI</th>\n",
       "      <th>NumberOfChildren</th>\n",
       "      <th>Sex</th>\n",
       "      <th>IsSmoker</th>\n",
       "      <th>Charges</th>\n",
       "      <th>MembershipId</th>\n",
       "    </tr>\n",
       "  </thead>\n",
       "  <tbody>\n",
       "    <tr>\n",
       "      <th>0</th>\n",
       "      <td>ELMO</td>\n",
       "      <td>PIOLA</td>\n",
       "      <td>email: epiola15@gmail.com</td>\n",
       "      <td>0937-908-4678</td>\n",
       "      <td>4991 Northfield Street</td>\n",
       "      <td>1986/06/27</td>\n",
       "      <td>NCR</td>\n",
       "      <td>20.5</td>\n",
       "      <td>6.0</td>\n",
       "      <td>male</td>\n",
       "      <td>False</td>\n",
       "      <td>23855.87</td>\n",
       "      <td>fbcf57ec</td>\n",
       "    </tr>\n",
       "    <tr>\n",
       "      <th>1</th>\n",
       "      <td>Ashli Sr</td>\n",
       "      <td>Mordy</td>\n",
       "      <td>undefined</td>\n",
       "      <td>+639152946667</td>\n",
       "      <td>6939 Fair Oaks Road</td>\n",
       "      <td>Martes 21 de Octubre de 1983</td>\n",
       "      <td>CAR</td>\n",
       "      <td>21.3</td>\n",
       "      <td>1.0</td>\n",
       "      <td>male</td>\n",
       "      <td>False</td>\n",
       "      <td>33854.71</td>\n",
       "      <td>62dc3e08</td>\n",
       "    </tr>\n",
       "    <tr>\n",
       "      <th>2</th>\n",
       "      <td>David Sr</td>\n",
       "      <td>Peace</td>\n",
       "      <td>NaN</td>\n",
       "      <td>phone: 9030174080</td>\n",
       "      <td>6693 Comanche Alley</td>\n",
       "      <td>Nov 11, 1979</td>\n",
       "      <td>NCR</td>\n",
       "      <td>25.1</td>\n",
       "      <td>6.0</td>\n",
       "      <td>female</td>\n",
       "      <td>True</td>\n",
       "      <td>7407.77</td>\n",
       "      <td>bb22a409</td>\n",
       "    </tr>\n",
       "    <tr>\n",
       "      <th>3</th>\n",
       "      <td>Alebrooke</td>\n",
       "      <td>S dela Cruz</td>\n",
       "      <td>invalid-email@gmail.com</td>\n",
       "      <td>639186261662</td>\n",
       "      <td>6 Evergreen Avenue</td>\n",
       "      <td>2003-11-06</td>\n",
       "      <td>CAR</td>\n",
       "      <td>20.7</td>\n",
       "      <td>8.0</td>\n",
       "      <td>male</td>\n",
       "      <td>True</td>\n",
       "      <td>26476.21</td>\n",
       "      <td>0eb8993e</td>\n",
       "    </tr>\n",
       "    <tr>\n",
       "      <th>4</th>\n",
       "      <td>Hon. Shaylyn</td>\n",
       "      <td>Lamlin</td>\n",
       "      <td>NaN</td>\n",
       "      <td>+639932349921</td>\n",
       "      <td>52 Hansons Park</td>\n",
       "      <td>2000/01/02</td>\n",
       "      <td>NCR</td>\n",
       "      <td>34.7</td>\n",
       "      <td>4.0</td>\n",
       "      <td>male</td>\n",
       "      <td>True</td>\n",
       "      <td>27362.33</td>\n",
       "      <td>1e98fcc2</td>\n",
       "    </tr>\n",
       "  </tbody>\n",
       "</table>\n",
       "</div>"
      ],
      "text/plain": [
       "  InsureeFirstName InsureeLastName               InsureeEmail  \\\n",
       "0             ELMO           PIOLA  email: epiola15@gmail.com   \n",
       "1         Ashli Sr           Mordy                  undefined   \n",
       "2         David Sr           Peace                        NaN   \n",
       "3        Alebrooke     S dela Cruz    invalid-email@gmail.com   \n",
       "4     Hon. Shaylyn          Lamlin                        NaN   \n",
       "\n",
       "    InsureePhoneNumber                 Address                    InsureeDob  \\\n",
       "0        0937-908-4678  4991 Northfield Street                    1986/06/27   \n",
       "1        +639152946667     6939 Fair Oaks Road  Martes 21 de Octubre de 1983   \n",
       "2    phone: 9030174080     6693 Comanche Alley                  Nov 11, 1979   \n",
       "3         639186261662      6 Evergreen Avenue                    2003-11-06   \n",
       "4        +639932349921         52 Hansons Park                    2000/01/02   \n",
       "\n",
       "  Region   BMI  NumberOfChildren     Sex  IsSmoker   Charges MembershipId  \n",
       "0    NCR  20.5               6.0    male     False  23855.87     fbcf57ec  \n",
       "1    CAR  21.3               1.0    male     False  33854.71     62dc3e08  \n",
       "2    NCR  25.1               6.0  female      True   7407.77     bb22a409  \n",
       "3    CAR  20.7               8.0    male      True  26476.21     0eb8993e  \n",
       "4    NCR  34.7               4.0    male      True  27362.33     1e98fcc2  "
      ]
     },
     "execution_count": 4,
     "metadata": {},
     "output_type": "execute_result"
    }
   ],
   "source": [
    "# If you would like to validate a file on a filesystem:\n",
    "batch_kwargs = {\"path\": \"../../dagster/tm_scv_dagster/assets/demo/static_files/insurance.csv\", \"datasource\": \"raw__insurance\"}\n",
    "\n",
    "batch = context.get_batch(batch_kwargs, expectation_suite_name)\n",
    "batch.head()"
   ]
  },
  {
   "cell_type": "markdown",
   "id": "dde4d397",
   "metadata": {},
   "source": [
    "## Create & Edit Expectations\n",
    "\n",
    "\n",
    "You are adding Expectation configurations to the suite. Since you selected manual mode, there is no sample batch of data and no validation happens during this process. See our documentation for more info and examples: **[How to create a new Expectation Suite without a sample batch](https://docs.greatexpectations.io/docs/guides/expectations/how_to_create_and_edit_expectations_based_on_domain_knowledge_without_inspecting_data_directly)**.\n",
    "\n",
    "Note that if you do use interactive mode you may specify a sample batch of data to use when creating your Expectation Suite. You can then use a `validator` to get immediate feedback on your Expectations against your specified sample batch.\n",
    "\n",
    "\n",
    "You can see all the available expectations in the **[expectation gallery](https://greatexpectations.io/expectations)**."
   ]
  },
  {
   "cell_type": "markdown",
   "id": "d97d2644",
   "metadata": {},
   "source": [
    "### Table Expectation(s)"
   ]
  },
  {
   "cell_type": "markdown",
   "id": "bf852437",
   "metadata": {},
   "source": [
    "No table level expectations are in this suite. Feel free to add some here.\n"
   ]
  },
  {
   "cell_type": "markdown",
   "id": "c630f30b",
   "metadata": {},
   "source": [
    "### Column Expectation(s)"
   ]
  },
  {
   "cell_type": "code",
   "execution_count": 5,
   "id": "445ad1cb",
   "metadata": {},
   "outputs": [],
   "source": [
    "insurance_columns_that_must_exist = [\"InsureeFirstName\", \"InsureeLastName\", \"InsureeEmail\", \"InsureePhoneNumber\", \"Address\", \"InsureeDob\"]\n",
    "\n",
    "for column in insurance_columns_that_must_exist:\n",
    "    batch.expect_column_to_exist(column)"
   ]
  },
  {
   "cell_type": "markdown",
   "id": "7f2bda7a",
   "metadata": {},
   "source": [
    "## Review & Save Your Expectations\n",
    "\n",
    "Let's save the expectation suite as a JSON file in the `great_expectations/expectations` directory of your project.\n",
    "\n",
    "Let's now rebuild your Data Docs, which helps you communicate about your data with both machines and humans."
   ]
  },
  {
   "cell_type": "code",
   "execution_count": 6,
   "id": "2890e800",
   "metadata": {},
   "outputs": [
    {
     "name": "stdout",
     "output_type": "stream",
     "text": [
      "2023-03-13T20:34:59+0800 - INFO - \t6 expectation(s) included in expectation_suite. result_format settings filtered.\n"
     ]
    }
   ],
   "source": [
    "batch.save_expectation_suite()"
   ]
  },
  {
   "cell_type": "code",
   "execution_count": null,
   "id": "669fd723",
   "metadata": {},
   "outputs": [],
   "source": []
  }
 ],
 "metadata": {
  "kernelspec": {
   "display_name": "Python 3 (ipykernel)",
   "language": "python",
   "name": "python3"
  },
  "language_info": {
   "codemirror_mode": {
    "name": "ipython",
    "version": 3
   },
   "file_extension": ".py",
   "mimetype": "text/x-python",
   "name": "python",
   "nbconvert_exporter": "python",
   "pygments_lexer": "ipython3",
   "version": "3.9.12"
  }
 },
 "nbformat": 4,
 "nbformat_minor": 5
}
